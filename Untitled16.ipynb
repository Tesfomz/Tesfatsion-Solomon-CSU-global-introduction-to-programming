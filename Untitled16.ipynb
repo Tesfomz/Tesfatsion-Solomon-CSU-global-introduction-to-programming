{
  "nbformat": 4,
  "nbformat_minor": 0,
  "metadata": {
    "colab": {
      "provenance": [],
      "authorship_tag": "ABX9TyMK11y6j83z2dc1wBuRqTDD",
      "include_colab_link": true
    },
    "kernelspec": {
      "name": "python3",
      "display_name": "Python 3"
    },
    "language_info": {
      "name": "python"
    }
  },
  "cells": [
    {
      "cell_type": "markdown",
      "metadata": {
        "id": "view-in-github",
        "colab_type": "text"
      },
      "source": [
        "<a href=\"https://colab.research.google.com/github/Tesfomz/Tesfatsion-Solomon-CSU-global-introduction-to-programming/blob/main/Untitled16.ipynb\" target=\"_parent\"><img src=\"https://colab.research.google.com/assets/colab-badge.svg\" alt=\"Open In Colab\"/></a>"
      ]
    },
    {
      "cell_type": "code",
      "execution_count": 4,
      "metadata": {
        "colab": {
          "base_uri": "https://localhost:8080/"
        },
        "id": "dzFXkR-ma_5j",
        "outputId": "85bc7468-e78b-4372-a7bd-007fa9d0fb7b"
      },
      "outputs": [
        {
          "output_type": "stream",
          "name": "stdout",
          "text": [
            "please input the number of years?2\n",
            "plese enter the fain fall in January of year 1 2\n",
            "plese enter the fain fall in February of year 1 2\n",
            "plese enter the fain fall in March of year 1 2\n",
            "plese enter the fain fall in April of year 1 4\n",
            "plese enter the fain fall in May of year 1 4\n",
            "plese enter the fain fall in June of year 1 0\n",
            "plese enter the fain fall in July of year 1 0\n",
            "plese enter the fain fall in August of year 1 0\n",
            "plese enter the fain fall in September of year 1 0\n",
            "plese enter the fain fall in October of year 1 0\n",
            "plese enter the fain fall in November of year 1 2\n",
            "plese enter the fain fall in December of year 1 4\n",
            "plese enter the fain fall in January of year 2 3\n",
            "plese enter the fain fall in February of year 2 3\n",
            "plese enter the fain fall in March of year 2 6\n",
            "plese enter the fain fall in April of year 2 4\n",
            "plese enter the fain fall in May of year 2 3\n",
            "plese enter the fain fall in June of year 2 5\n",
            "plese enter the fain fall in July of year 2 2\n",
            "plese enter the fain fall in August of year 2 4\n",
            "plese enter the fain fall in September of year 2 4\n",
            "plese enter the fain fall in October of year 2 2\n",
            "plese enter the fain fall in November of year 2 2\n",
            "plese enter the fain fall in December of year 2 2\n",
            "the number of months is 24\n",
            "the total inches of rainfall is 60.0\n",
            "the average inches of rainfall is 2.5\n"
          ]
        }
      ],
      "source": [
        "\n",
        "import numpy as np\n",
        "\n",
        "years=int(input(\"please input the number of years?\"))\n",
        "years_list=np.zeros(years)\n",
        "monthly_rainfall=np.zeros((years,12))\n",
        "months=[\"January\",\"February\",\"March\",\"April\",\"May\",\"June\",\"July\",\"August\",\"September\",\"October\",\"November\",\"December\"]\n",
        "\n",
        "for i in range(years):\n",
        "  for j in range(12):\n",
        "    monthly_rainfall[i][j]=float(input(f\"plese enter the fain fall in {months[j]} of year {i+1} \" ))\n",
        "\n",
        "number_of_months=years*12\n",
        "total_inches_of_rainfall=0\n",
        "for i in range(years):\n",
        "  for j in range(12):\n",
        "    total_inches_of_rainfall+=monthly_rainfall[i][j]\n",
        "average_inches_of_rainfall=total_inches_of_rainfall/number_of_months\n",
        "print(f\"the number of months is {number_of_months}\")\n",
        "\n",
        "print(f\"the total inches of rainfall is {total_inches_of_rainfall}\")\n",
        "print(f\"the average inches of rainfall is {average_inches_of_rainfall}\")"
      ]
    }
  ]
}