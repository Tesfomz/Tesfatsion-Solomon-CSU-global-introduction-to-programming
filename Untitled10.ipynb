{
  "nbformat": 4,
  "nbformat_minor": 0,
  "metadata": {
    "colab": {
      "provenance": [],
      "authorship_tag": "ABX9TyO9d5NYROQoRvKBQDPEQOGJ",
      "include_colab_link": true
    },
    "kernelspec": {
      "name": "python3",
      "display_name": "Python 3"
    },
    "language_info": {
      "name": "python"
    }
  },
  "cells": [
    {
      "cell_type": "markdown",
      "metadata": {
        "id": "view-in-github",
        "colab_type": "text"
      },
      "source": [
        "<a href=\"https://colab.research.google.com/github/Tesfomz/Tesfatsion-Solomon-CSU-global-introduction-to-programming/blob/main/Untitled10.ipynb\" target=\"_parent\"><img src=\"https://colab.research.google.com/assets/colab-badge.svg\" alt=\"Open In Colab\"/></a>"
      ]
    },
    {
      "cell_type": "code",
      "execution_count": 8,
      "metadata": {
        "colab": {
          "base_uri": "https://localhost:8080/"
        },
        "id": "JLxkJ9DWT73C",
        "outputId": "5e22ce1a-d7c3-440e-bd89-46420647616e"
      },
      "outputs": [
        {
          "output_type": "stream",
          "name": "stdout",
          "text": [
            "Enter current time: 20\n",
            "Enter the hours to wait: 10\n",
            "Alarm will be off:   6\n"
          ]
        }
      ],
      "source": [
        "current_time=int(input(\"Enter current time: \"))\n",
        "hours_wait=int(input(\"Enter the hours to wait: \"))\n",
        "Alarm_time=(current_time+hours_wait%24)%24\n",
        "print(\"Alarm will be off:  \", Alarm_time)"
      ]
    }
  ]
}