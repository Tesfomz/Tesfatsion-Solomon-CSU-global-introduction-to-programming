{
  "nbformat": 4,
  "nbformat_minor": 0,
  "metadata": {
    "colab": {
      "provenance": [],
      "authorship_tag": "ABX9TyPh80dhlsvrsPGlpjbDwZbe",
      "include_colab_link": true
    },
    "kernelspec": {
      "name": "python3",
      "display_name": "Python 3"
    },
    "language_info": {
      "name": "python"
    }
  },
  "cells": [
    {
      "cell_type": "markdown",
      "metadata": {
        "id": "view-in-github",
        "colab_type": "text"
      },
      "source": [
        "<a href=\"https://colab.research.google.com/github/Tesfomz/Tesfatsion-Solomon-CSU-global-introduction-to-programming/blob/main/Untitled14.ipynb\" target=\"_parent\"><img src=\"https://colab.research.google.com/assets/colab-badge.svg\" alt=\"Open In Colab\"/></a>"
      ]
    },
    {
      "cell_type": "code",
      "execution_count": 51,
      "metadata": {
        "colab": {
          "base_uri": "https://localhost:8080/"
        },
        "id": "af3p4q-vujFW",
        "outputId": "ae7e75d0-baba-4f1a-b410-eac51a0f7aeb"
      },
      "outputs": [
        {
          "output_type": "stream",
          "name": "stdout",
          "text": [
            "Vet recommended healthy Dog Food\n",
            "Enter Item1:  Ollie\n",
            "enter unit price:  40\n",
            "enter quantity:  2\n",
            "total item1 price:  Ollie 2.0 @ 40.0 = 80.0\n",
            "Enter Item2:  Pedigree\n",
            "enter unit price:  2\n",
            "enter quantity:  10\n",
            "total item2 price:  Pedigree 10.0 @ 2.0 = 20.0\n",
            "total cost:  100.0\n"
          ]
        }
      ],
      "source": [
        "# Online shopping Cart\n",
        "Dogfood_= str(\"Vet recommended healthy Dog Food\")\n",
        "print(Dogfood_)\n",
        "Item1 = str(input(\"Enter Item1: \"\" \"))\n",
        "Ollie_unitprice =float(input(\"enter unit price: \"\" \"))\n",
        "Ollie_Quantity =float(input(\"enter quantity: \"\" \"))\n",
        "Total_item1_price= float(Ollie_unitprice*Ollie_Quantity)\n",
        "print(\"total item1 price: \", Item1, Ollie_Quantity,\"@\", Ollie_unitprice, \"=\" ,Total_item1_price)\n",
        "Item2 = str(input(\"Enter Item2: \"\" \"))\n",
        "Pedigree_unitprice =float(input(\"enter unit price: \"\" \"))\n",
        "Pedigree_quantity =float(input(\"enter quantity: \"\" \"))\n",
        "Total_item2_price = float(Pedigree_unitprice*Pedigree_quantity)\n",
        "print(\"total item2 price: \", Item2, Pedigree_quantity,\"@\", Pedigree_unitprice, \"=\" ,Total_item2_price)\n",
        "Total_cost= float(Total_item1_price+Total_item2_price)\n",
        "print(\"total cost: \", Total_cost)"
      ]
    }
  ]
}