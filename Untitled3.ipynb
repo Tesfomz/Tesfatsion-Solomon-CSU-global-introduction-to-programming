{
  "nbformat": 4,
  "nbformat_minor": 0,
  "metadata": {
    "colab": {
      "provenance": []
    },
    "kernelspec": {
      "name": "python3",
      "display_name": "Python 3"
    },
    "language_info": {
      "name": "python"
    }
  },
  "cells": [
    {
      "cell_type": "code",
      "execution_count": 1,
      "metadata": {
        "colab": {
          "base_uri": "https://localhost:8080/"
        },
        "id": "URCUzQ1bhKXA",
        "outputId": "dd4ae7ad-cce7-411b-b811-7fab80ca6194"
      },
      "outputs": [
        {
          "output_type": "stream",
          "name": "stdout",
          "text": [
            "Critical thinking assignment1 introduction to programming\n",
            "Addition of two numbers\n",
            "Enter a first number80\n",
            "Enter the second number60\n",
            "The sum of the two numbers : 140.0\n",
            "Subtraction of two numbers\n",
            "Enter a first number47\n",
            "Enter the second number20\n",
            "The subtraction of the two numbers : 27.0\n",
            "Division of two numbers\n",
            "Enter a first number75\n",
            "Enter the second number3\n",
            "The division of the two : 25.0\n",
            "The Multiplication of the two\n",
            "Enter a first number6.72\n",
            "Enter the second number8.9\n",
            "The multiplication of the two numbers : 59.808\n"
          ]
        }
      ],
      "source": [
        "print(\"Critical thinking assignment1 introduction to programming\")\n",
        "print(\"Addition of two numbers\")\n",
        "N1=float(input(\"Enter a first number\"))\n",
        "N2=float(input(\"Enter the second number\"))\n",
        "Sum=N1+N2\n",
        "print(\"The sum of the two numbers :\",Sum)\n",
        "print(\"Subtraction of two numbers\")\n",
        "N1=float(input(\"Enter a first number\"))\n",
        "N2=float(input(\"Enter the second number\"))\n",
        "Subtract=N1-N2\n",
        "print(\"The subtraction of the two numbers :\",Subtract)\n",
        "print(\"Division of two numbers\")\n",
        "N1=float(input(\"Enter a first number\"))\n",
        "N2=float(input(\"Enter the second number\"))\n",
        "Division=N1/N2\n",
        "print(\"The division of the two :\",Division)\n",
        "print(\"The Multiplication of the two\")\n",
        "N1=float(input(\"Enter a first number\"))\n",
        "N2=float(input(\"Enter the second number\"))\n",
        "Multiplication=N1*N2\n",
        "print(\"The multiplication of the two numbers :\",Multiplication)\n"
      ]
    }
  ]
}