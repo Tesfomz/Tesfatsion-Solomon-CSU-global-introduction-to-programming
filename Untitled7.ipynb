{
  "nbformat": 4,
  "nbformat_minor": 0,
  "metadata": {
    "colab": {
      "provenance": [],
      "authorship_tag": "ABX9TyMHWhGq7+ul2rMaE8F1y7uB",
      "include_colab_link": true
    },
    "kernelspec": {
      "name": "python3",
      "display_name": "Python 3"
    },
    "language_info": {
      "name": "python"
    }
  },
  "cells": [
    {
      "cell_type": "markdown",
      "metadata": {
        "id": "view-in-github",
        "colab_type": "text"
      },
      "source": [
        "<a href=\"https://colab.research.google.com/github/Tesfomz/Tesfatsion-Solomon-CSU-global-introduction-to-programming/blob/main/Untitled7.ipynb\" target=\"_parent\"><img src=\"https://colab.research.google.com/assets/colab-badge.svg\" alt=\"Open In Colab\"/></a>"
      ]
    },
    {
      "cell_type": "code",
      "execution_count": 2,
      "metadata": {
        "colab": {
          "base_uri": "https://localhost:8080/"
        },
        "id": "KyIBfRkXrdI-",
        "outputId": "64d07078-a8ef-45d6-a6bc-4aae4416829f"
      },
      "outputs": [
        {
          "output_type": "stream",
          "name": "stdout",
          "text": [
            "please enter meal cost86\n",
            "tax amount: 6.02\n",
            "Tip amount: 15.48\n",
            "Total you pay: 107.5\n"
          ]
        }
      ],
      "source": [
        "meal_price=float(input(\"please enter meal cost\"  ))\n",
        "tax=0.07*meal_price\n",
        "Tip=0.18*meal_price\n",
        "total_fee = meal_price +tax +Tip\n",
        "print(\"tax amount:\",round(tax,2))\n",
        "print(\"Tip amount:\",round(Tip,2))\n",
        "print(\"Total you pay:\",round(total_fee,2))"
      ]
    }
  ]
}