{
  "nbformat": 4,
  "nbformat_minor": 0,
  "metadata": {
    "colab": {
      "provenance": [],
      "authorship_tag": "ABX9TyPyK9Iqg94vgK9z2JgIuvG9",
      "include_colab_link": true
    },
    "kernelspec": {
      "name": "python3",
      "display_name": "Python 3"
    },
    "language_info": {
      "name": "python"
    }
  },
  "cells": [
    {
      "cell_type": "markdown",
      "metadata": {
        "id": "view-in-github",
        "colab_type": "text"
      },
      "source": [
        "<a href=\"https://colab.research.google.com/github/Tesfomz/Tesfatsion-Solomon-CSU-global-introduction-to-programming/blob/main/Untitled17.ipynb\" target=\"_parent\"><img src=\"https://colab.research.google.com/assets/colab-badge.svg\" alt=\"Open In Colab\"/></a>"
      ]
    },
    {
      "cell_type": "code",
      "execution_count": 1,
      "metadata": {
        "colab": {
          "base_uri": "https://localhost:8080/"
        },
        "id": "ifrU11rgeHN0",
        "outputId": "51333c11-a943-44b1-baeb-9efc454a7dce"
      },
      "outputs": [
        {
          "output_type": "stream",
          "name": "stdout",
          "text": [
            " please input the number of books purchased this month,  4\n",
            "You have been awarded 15 points this month.\n"
          ]
        }
      ],
      "source": [
        "books_purchased=int(input(\" please input the number of books purchased this month, \"\" \"))\n",
        "ponts=0\n",
        "if books_purchased == 0:\n",
        "  points = 0\n",
        "elif 1 <= books_purchased <= 2:\n",
        "  points = 5\n",
        "elif 3 <= books_purchased <= 4:\n",
        "  points = 15\n",
        "elif 5 <= books_purchased <= 6:\n",
        "  points = 30\n",
        "elif books_purchased >= 7:\n",
        "  points = 60\n",
        "print(f\"You have been awarded {points} points this month.\")"
      ]
    }
  ]
}